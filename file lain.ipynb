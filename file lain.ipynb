{
 "cells": [
  {
   "cell_type": "code",
   "execution_count": 6,
   "id": "fd176a78",
   "metadata": {},
   "outputs": [
    {
     "name": "stdout",
     "output_type": "stream",
     "text": [
      "Jumlah huruf besar pada string tersebut adalah  6\n"
     ]
    }
   ],
   "source": [
    "import import_ipynb\n",
    "\n",
    "from modul import upperCaseCount\n",
    "string = 'NgoDing SaNGat Mudah '\n",
    "\n",
    "count = upperCaseCount(string)\n",
    "\n",
    "print('Jumlah huruf besar pada string tersebut adalah ',count)"
   ]
  },
  {
   "cell_type": "code",
   "execution_count": null,
   "id": "c7f3da61",
   "metadata": {},
   "outputs": [],
   "source": []
  }
 ],
 "metadata": {
  "kernelspec": {
   "display_name": "Python 3 (ipykernel)",
   "language": "python",
   "name": "python3"
  },
  "language_info": {
   "codemirror_mode": {
    "name": "ipython",
    "version": 3
   },
   "file_extension": ".py",
   "mimetype": "text/x-python",
   "name": "python",
   "nbconvert_exporter": "python",
   "pygments_lexer": "ipython3",
   "version": "3.9.12"
  }
 },
 "nbformat": 4,
 "nbformat_minor": 5
}
