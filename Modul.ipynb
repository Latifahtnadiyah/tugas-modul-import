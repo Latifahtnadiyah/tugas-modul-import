{
 "cells": [
  {
   "cell_type": "code",
   "execution_count": 1,
   "id": "f4448c9e",
   "metadata": {},
   "outputs": [],
   "source": [
    "def upperCaseCount(string): \n",
    "    upper = 0\n",
    "    for i in string: \n",
    "        if i.isupper(): \n",
    "            upper += 1\n",
    "    return upper"
   ]
  },
  {
   "cell_type": "code",
   "execution_count": null,
   "id": "1be1536b",
   "metadata": {},
   "outputs": [],
   "source": []
  }
 ],
 "metadata": {
  "kernelspec": {
   "display_name": "Python 3 (ipykernel)",
   "language": "python",
   "name": "python3"
  },
  "language_info": {
   "codemirror_mode": {
    "name": "ipython",
    "version": 3
   },
   "file_extension": ".py",
   "mimetype": "text/x-python",
   "name": "python",
   "nbconvert_exporter": "python",
   "pygments_lexer": "ipython3",
   "version": "3.9.12"
  }
 },
 "nbformat": 4,
 "nbformat_minor": 5
}
